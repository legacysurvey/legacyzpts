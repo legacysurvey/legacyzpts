{
 "cells": [
  {
   "cell_type": "markdown",
   "metadata": {},
   "source": [
    "# Unit tests"
   ]
  },
  {
   "cell_type": "code",
   "execution_count": 3,
   "metadata": {},
   "outputs": [
    {
     "name": "stdout",
     "output_type": "stream",
     "text": [
      "The autoreload extension is already loaded. To reload it, use:\n",
      "  %reload_ext autoreload\n"
     ]
    }
   ],
   "source": [
    "%matplotlib inline\n",
    "%load_ext autoreload\n",
    "%autoreload 2\n",
    "\n",
    "import numpy as np\n",
    "import matplotlib.pyplot as plt\n",
    "import fitsio\n",
    "from glob import glob\n",
    "import os\n",
    "import pandas as pd\n",
    "from scipy.stats import sigmaclip\n",
    "\n",
    "from astrometry.util.fits import fits_table, merge_tables\n",
    "\n",
    "from obiwan.common import fits2pandas\n",
    "import legacyzpts.test.test_compare_legacy_idl as test"
   ]
  },
  {
   "cell_type": "markdown",
   "metadata": {
    "collapsed": true
   },
   "source": [
    "# Compare results to IDL zeropoints/matches files"
   ]
  },
  {
   "cell_type": "code",
   "execution_count": 4,
   "metadata": {},
   "outputs": [
    {
     "name": "stdout",
     "output_type": "stream",
     "text": [
      "Already exists: /home/kaylan/myrepo/legacyzpts/py/legacyzpts/test/testdata/idl_legacy_data.tar.gz\n",
      "Merged zpt data: zpts=183\n",
      "Merged zpt data: zpts=180\n",
      "Wrote /home/kaylan/myrepo/legacyzpts/py/legacyzpts/test/testoutput_shared/expnum2exptime.json\n",
      "Wrote /home/kaylan/myrepo/legacyzpts/py/legacyzpts/test/testoutput_shared/expnum2gain.json\n"
     ]
    }
   ],
   "source": [
    "zpt= test.test_load_zpts(camera='decam', plot=False)\n",
    "test.test_values_zpts(zpt)\n"
   ]
  },
  {
   "cell_type": "code",
   "execution_count": 6,
   "metadata": {},
   "outputs": [
    {
     "name": "stdout",
     "output_type": "stream",
     "text": [
      "count    176.000000\n",
      "mean       0.002536\n",
      "std        0.002234\n",
      "min        0.000023\n",
      "25%        0.000901\n",
      "50%        0.001874\n",
      "75%        0.003510\n",
      "max        0.011887\n",
      "Name: diff, dtype: float64\n"
     ]
    },
    {
     "data": {
      "image/png": "[encoded data removed]",
      "text/plain": [
       "<matplotlib.figure.Figure at 0x7f28a4199810>"
      ]
     },
     "metadata": {},
     "output_type": "display_data"
    }
   ],
   "source": [
    "diff,_,_=sigmaclip(zpt.legacy.data.ccdzpt - \n",
    "            zpt.idl.data.ccdzpt)\n",
    "df= pd.DataFrame({'diff':np.abs(diff)})\n",
    "_=plt.hist(df['diff'])\n",
    "print(df['diff'].describe())"
   ]
  },
  {
   "cell_type": "code",
   "execution_count": 5,
   "metadata": {},
   "outputs": [
    {
     "name": "stdout",
     "output_type": "stream",
     "text": [
      "Already exists: /home/kaylan/myrepo/legacyzpts/py/legacyzpts/test/testdata/idl_legacy_data.tar.gz\n",
      "Merged zpt data: zpts=13278\n",
      "Merged zpt data: zpts=13354\n",
      "Read /home/kaylan/myrepo/legacyzpts/py/legacyzpts/test/testoutput_shared/expnum2exptime.json\n",
      "Read /home/kaylan/myrepo/legacyzpts/py/legacyzpts/test/testoutput_shared/expnum2gain.json\n"
     ]
    }
   ],
   "source": [
    "star= test.test_load_stars(camera='decam', plot=False)\n",
    "test.test_values_stars(star)"
   ]
  },
  {
   "cell_type": "markdown",
   "metadata": {},
   "source": [
    "# Inspect"
   ]
  },
  {
   "cell_type": "code",
   "execution_count": null,
   "metadata": {},
   "outputs": [],
   "source": [
    "zpt.legacy.data.columns"
   ]
  },
  {
   "cell_type": "code",
   "execution_count": null,
   "metadata": {},
   "outputs": [],
   "source": [
    "star.legacy.data.columns"
   ]
  }
 ],
 "metadata": {
  "anaconda-cloud": {},
  "kernelspec": {
   "display_name": "Python 2",
   "language": "python",
   "name": "python2"
  },
  "language_info": {
   "codemirror_mode": {
    "name": "ipython",
    "version": 2
   },
   "file_extension": ".py",
   "mimetype": "text/x-python",
   "name": "python",
   "nbconvert_exporter": "python",
   "pygments_lexer": "ipython2",
   "version": "2.7.12"
  }
 },
 "nbformat": 4,
 "nbformat_minor": 1
}
