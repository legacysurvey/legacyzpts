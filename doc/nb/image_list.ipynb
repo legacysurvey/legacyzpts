{
 "cells": [
  {
   "cell_type": "markdown",
   "metadata": {},
   "source": [
    "# Image list for a Data Release"
   ]
  },
  {
   "cell_type": "code",
   "execution_count": 2,
   "metadata": {
    "collapsed": true
   },
   "outputs": [],
   "source": [
    "import pandas as pd\n",
    "import numpy as np\n",
    "import matplotlib.pyplot as plt\n",
    "import seaborn as sns\n",
    "%matplotlib inline"
   ]
  },
  {
   "cell_type": "code",
   "execution_count": 71,
   "metadata": {},
   "outputs": [
    {
     "data": {
      "text/html": [
       "<div>\n",
       "<style>\n",
       "    .dataframe thead tr:only-child th {\n",
       "        text-align: right;\n",
       "    }\n",
       "\n",
       "    .dataframe thead th {\n",
       "        text-align: left;\n",
       "    }\n",
       "\n",
       "    .dataframe tbody tr th {\n",
       "        vertical-align: top;\n",
       "    }\n",
       "</style>\n",
       "<table border=\"1\" class=\"dataframe\">\n",
       "  <thead>\n",
       "    <tr style=\"text-align: right;\">\n",
       "      <th></th>\n",
       "      <th>absfn</th>\n",
       "    </tr>\n",
       "  </thead>\n",
       "  <tbody>\n",
       "    <tr>\n",
       "      <th>0</th>\n",
       "      <td>/project/projectdirs/cosmo/staging/mosaicz/MZL...</td>\n",
       "    </tr>\n",
       "    <tr>\n",
       "      <th>1</th>\n",
       "      <td>/project/projectdirs/cosmo/staging/mosaicz/MZL...</td>\n",
       "    </tr>\n",
       "    <tr>\n",
       "      <th>2</th>\n",
       "      <td>/project/projectdirs/cosmo/staging/mosaicz/MZL...</td>\n",
       "    </tr>\n",
       "    <tr>\n",
       "      <th>3</th>\n",
       "      <td>/project/projectdirs/cosmo/staging/mosaicz/MZL...</td>\n",
       "    </tr>\n",
       "    <tr>\n",
       "      <th>4</th>\n",
       "      <td>/project/projectdirs/cosmo/staging/mosaicz/MZL...</td>\n",
       "    </tr>\n",
       "  </tbody>\n",
       "</table>\n",
       "</div>"
      ],
      "text/plain": [
       "                                               absfn\n",
       "0  /project/projectdirs/cosmo/staging/mosaicz/MZL...\n",
       "1  /project/projectdirs/cosmo/staging/mosaicz/MZL...\n",
       "2  /project/projectdirs/cosmo/staging/mosaicz/MZL...\n",
       "3  /project/projectdirs/cosmo/staging/mosaicz/MZL...\n",
       "4  /project/projectdirs/cosmo/staging/mosaicz/MZL..."
      ]
     },
     "execution_count": 71,
     "metadata": {},
     "output_type": "execute_result"
    }
   ],
   "source": [
    "df= pd.read_csv(\"mosaic_ooi.txt\",header=None,names=['absfn'],dtype=str)\n",
    "df.head()"
   ]
  },
  {
   "cell_type": "code",
   "execution_count": 72,
   "metadata": {},
   "outputs": [
    {
     "data": {
      "text/plain": [
       "'/project/projectdirs/cosmo/staging/mosaicz/MZLS_CP/CP20160202v2/k4m_160203_015632_ooi_zd_v2.fits.fz'"
      ]
     },
     "execution_count": 72,
     "metadata": {},
     "output_type": "execute_result"
    }
   ],
   "source": [
    "df['absfn'][0]"
   ]
  },
  {
   "cell_type": "code",
   "execution_count": 73,
   "metadata": {},
   "outputs": [],
   "source": [
    "junk='/project/projectdirs/cosmo/staging/mosaicz/MZLS_CP/'\n",
    "df['cpdir']= df['absfn'].str.replace(junk,'').str.split('/').str[0]\n",
    "df['fn']= df['absfn'].str.split('/').str[-1]"
   ]
  },
  {
   "cell_type": "code",
   "execution_count": 77,
   "metadata": {
    "collapsed": true
   },
   "outputs": [],
   "source": [
    "df.set_index?"
   ]
  },
  {
   "cell_type": "code",
   "execution_count": 78,
   "metadata": {},
   "outputs": [
    {
     "name": "stderr",
     "output_type": "stream",
     "text": [
      "/Users/kaylan1/miniconda3/envs/ds100/lib/python3.6/site-packages/ipykernel_launcher.py:1: FutureWarning: currently extract(expand=None) means expand=False (return Index/Series/DataFrame) but in a future version of pandas this will be changed to expand=True (return DataFrame)\n",
      "  \"\"\"Entry point for launching an IPython kernel.\n"
     ]
    }
   ],
   "source": [
    "df['NOv']= df['cpdir'].str.extract(r'(CP[0-9]{8})')\n",
    "df.set_index('NOv',inplace=True)"
   ]
  },
  {
   "cell_type": "code",
   "execution_count": 83,
   "metadata": {},
   "outputs": [
    {
     "data": {
      "text/plain": [
       "{'v1.fits.fz', 'v2.fits.fz', 'v3.fits.fz'}"
      ]
     },
     "execution_count": 83,
     "metadata": {},
     "output_type": "execute_result"
    }
   ],
   "source": [
    "df['fn_end']= df['fn'].str.split('_').str[-1]\n",
    "set(df['fn_end'])"
   ]
  },
  {
   "cell_type": "code",
   "execution_count": 180,
   "metadata": {},
   "outputs": [
    {
     "data": {
      "text/html": [
       "<div>\n",
       "<style>\n",
       "    .dataframe thead tr:only-child th {\n",
       "        text-align: right;\n",
       "    }\n",
       "\n",
       "    .dataframe thead th {\n",
       "        text-align: left;\n",
       "    }\n",
       "\n",
       "    .dataframe tbody tr th {\n",
       "        vertical-align: top;\n",
       "    }\n",
       "</style>\n",
       "<table border=\"1\" class=\"dataframe\">\n",
       "  <thead>\n",
       "    <tr style=\"text-align: right;\">\n",
       "      <th></th>\n",
       "      <th>absfn</th>\n",
       "      <th>cpdir</th>\n",
       "      <th>fn</th>\n",
       "      <th>fn_end</th>\n",
       "    </tr>\n",
       "    <tr>\n",
       "      <th>NOv</th>\n",
       "      <th></th>\n",
       "      <th></th>\n",
       "      <th></th>\n",
       "      <th></th>\n",
       "    </tr>\n",
       "  </thead>\n",
       "  <tbody>\n",
       "    <tr>\n",
       "      <th>CP20160318</th>\n",
       "      <td>/project/projectdirs/cosmo/staging/mosaicz/MZL...</td>\n",
       "      <td>CP20160318</td>\n",
       "      <td>k4m_160319_022503_ooi_zd_v1.fits.fz</td>\n",
       "      <td>v1.fits.fz</td>\n",
       "    </tr>\n",
       "    <tr>\n",
       "      <th>CP20160318</th>\n",
       "      <td>/project/projectdirs/cosmo/staging/mosaicz/MZL...</td>\n",
       "      <td>CP20160318</td>\n",
       "      <td>k4m_160319_023531_ooi_zd_v1.fits.fz</td>\n",
       "      <td>v1.fits.fz</td>\n",
       "    </tr>\n",
       "    <tr>\n",
       "      <th>CP20160318</th>\n",
       "      <td>/project/projectdirs/cosmo/staging/mosaicz/MZL...</td>\n",
       "      <td>CP20160318</td>\n",
       "      <td>k4m_160319_023732_ooi_zd_v1.fits.fz</td>\n",
       "      <td>v1.fits.fz</td>\n",
       "    </tr>\n",
       "    <tr>\n",
       "      <th>CP20160318</th>\n",
       "      <td>/project/projectdirs/cosmo/staging/mosaicz/MZL...</td>\n",
       "      <td>CP20160318</td>\n",
       "      <td>k4m_160319_023943_ooi_zd_v1.fits.fz</td>\n",
       "      <td>v1.fits.fz</td>\n",
       "    </tr>\n",
       "    <tr>\n",
       "      <th>CP20160318</th>\n",
       "      <td>/project/projectdirs/cosmo/staging/mosaicz/MZL...</td>\n",
       "      <td>CP20160318</td>\n",
       "      <td>k4m_160319_024203_ooi_zd_v1.fits.fz</td>\n",
       "      <td>v1.fits.fz</td>\n",
       "    </tr>\n",
       "  </tbody>\n",
       "</table>\n",
       "</div>"
      ],
      "text/plain": [
       "                                                        absfn       cpdir  \\\n",
       "NOv                                                                         \n",
       "CP20160318  /project/projectdirs/cosmo/staging/mosaicz/MZL...  CP20160318   \n",
       "CP20160318  /project/projectdirs/cosmo/staging/mosaicz/MZL...  CP20160318   \n",
       "CP20160318  /project/projectdirs/cosmo/staging/mosaicz/MZL...  CP20160318   \n",
       "CP20160318  /project/projectdirs/cosmo/staging/mosaicz/MZL...  CP20160318   \n",
       "CP20160318  /project/projectdirs/cosmo/staging/mosaicz/MZL...  CP20160318   \n",
       "\n",
       "                                             fn      fn_end  \n",
       "NOv                                                          \n",
       "CP20160318  k4m_160319_022503_ooi_zd_v1.fits.fz  v1.fits.fz  \n",
       "CP20160318  k4m_160319_023531_ooi_zd_v1.fits.fz  v1.fits.fz  \n",
       "CP20160318  k4m_160319_023732_ooi_zd_v1.fits.fz  v1.fits.fz  \n",
       "CP20160318  k4m_160319_023943_ooi_zd_v1.fits.fz  v1.fits.fz  \n",
       "CP20160318  k4m_160319_024203_ooi_zd_v1.fits.fz  v1.fits.fz  "
      ]
     },
     "execution_count": 180,
     "metadata": {},
     "output_type": "execute_result"
    }
   ],
   "source": [
    "v1= df[df['fn_end'] == 'v1.fits.fz']\n",
    "v2= df[df['fn_end'] == 'v2.fits.fz']\n",
    "v3= df[df['fn_end'] == 'v3.fits.fz']\n",
    "v1.head()"
   ]
  },
  {
   "cell_type": "code",
   "execution_count": 164,
   "metadata": {},
   "outputs": [
    {
     "data": {
      "text/plain": [
       "(25060, 20620, 12408)"
      ]
     },
     "execution_count": 164,
     "metadata": {},
     "output_type": "execute_result"
    }
   ],
   "source": [
    "len(set(v1['fn'])),len(set(v2['fn'])),len(set(v3['fn']))"
   ]
  },
  {
   "cell_type": "code",
   "execution_count": 165,
   "metadata": {},
   "outputs": [
    {
     "data": {
      "text/plain": [
       "((25060, 4), (20620, 4), (12408, 4))"
      ]
     },
     "execution_count": 165,
     "metadata": {},
     "output_type": "execute_result"
    }
   ],
   "source": [
    "v1.shape,v2.shape,v3.shape"
   ]
  },
  {
   "cell_type": "code",
   "execution_count": 183,
   "metadata": {},
   "outputs": [
    {
     "data": {
      "text/plain": [
       "['CP20170609',\n",
       " 'CP20170429',\n",
       " 'CP20170204',\n",
       " 'CP20170521',\n",
       " 'CP20170805',\n",
       " 'CP20170909',\n",
       " 'CP20170324',\n",
       " 'CP20170409',\n",
       " 'CP20170126',\n",
       " 'CP20170302']"
      ]
     },
     "execution_count": 183,
     "metadata": {},
     "output_type": "execute_result"
    }
   ],
   "source": [
    "# Cannot join b/c NOv not unique, so get many duplicates\n",
    "notinV2= list(set(v1.index).difference(set(v2.index)))\n",
    "notinV2[:10]"
   ]
  },
  {
   "cell_type": "code",
   "execution_count": 186,
   "metadata": {},
   "outputs": [
    {
     "data": {
      "text/plain": [
       "((24792, 4), (25060, 4))"
      ]
     },
     "execution_count": 186,
     "metadata": {},
     "output_type": "execute_result"
    }
   ],
   "source": [
    "useV1= v1.loc[notinV2,:]\n",
    "useV1.shape,v1.shape\n",
    "#merged= pd.merge(v2,v1,how='outer',left_index=True,right_index=True,\n",
    "#                 suffixes=('_v2','_v1'))\n",
    "#print(merged.shape)\n",
    "#merged.head()"
   ]
  },
  {
   "cell_type": "code",
   "execution_count": 187,
   "metadata": {},
   "outputs": [
    {
     "name": "stderr",
     "output_type": "stream",
     "text": [
      "/Users/kaylan1/miniconda3/envs/ds100/lib/python3.6/site-packages/ipykernel_launcher.py:2: SettingWithCopyWarning: \n",
      "A value is trying to be set on a copy of a slice from a DataFrame.\n",
      "Try using .loc[row_indexer,col_indexer] = value instead\n",
      "\n",
      "See the caveats in the documentation: http://pandas.pydata.org/pandas-docs/stable/indexing.html#indexing-view-versus-copy\n",
      "  \n",
      "/Users/kaylan1/miniconda3/envs/ds100/lib/python3.6/site-packages/ipykernel_launcher.py:5: SettingWithCopyWarning: \n",
      "A value is trying to be set on a copy of a slice from a DataFrame.\n",
      "Try using .loc[row_indexer,col_indexer] = value instead\n",
      "\n",
      "See the caveats in the documentation: http://pandas.pydata.org/pandas-docs/stable/indexing.html#indexing-view-versus-copy\n",
      "  \"\"\"\n"
     ]
    }
   ],
   "source": [
    "useV1['date']= pd.to_datetime(useV1.index.str.replace('CP',''), \n",
    "                              format='%Y%m%d')\n",
    "##\n",
    "v2['date']= pd.to_datetime(v2.index.str.replace('CP',''), \n",
    "                              format='%Y%m%d')"
   ]
  },
  {
   "cell_type": "code",
   "execution_count": null,
   "metadata": {
    "collapsed": true
   },
   "outputs": [],
   "source": []
  },
  {
   "cell_type": "code",
   "execution_count": 194,
   "metadata": {},
   "outputs": [
    {
     "data": {
      "text/html": [
       "<div>\n",
       "<style>\n",
       "    .dataframe thead tr:only-child th {\n",
       "        text-align: right;\n",
       "    }\n",
       "\n",
       "    .dataframe thead th {\n",
       "        text-align: left;\n",
       "    }\n",
       "\n",
       "    .dataframe tbody tr th {\n",
       "        vertical-align: top;\n",
       "    }\n",
       "</style>\n",
       "<table border=\"1\" class=\"dataframe\">\n",
       "  <thead>\n",
       "    <tr style=\"text-align: right;\">\n",
       "      <th></th>\n",
       "      <th>count</th>\n",
       "    </tr>\n",
       "  </thead>\n",
       "  <tbody>\n",
       "    <tr>\n",
       "      <th>2016-02-02</th>\n",
       "      <td>234</td>\n",
       "    </tr>\n",
       "    <tr>\n",
       "      <th>2016-02-03</th>\n",
       "      <td>217</td>\n",
       "    </tr>\n",
       "    <tr>\n",
       "      <th>2016-02-04</th>\n",
       "      <td>243</td>\n",
       "    </tr>\n",
       "    <tr>\n",
       "      <th>2016-02-05</th>\n",
       "      <td>220</td>\n",
       "    </tr>\n",
       "    <tr>\n",
       "      <th>2016-02-06</th>\n",
       "      <td>251</td>\n",
       "    </tr>\n",
       "  </tbody>\n",
       "</table>\n",
       "</div>"
      ],
      "text/plain": [
       "            count\n",
       "2016-02-02    234\n",
       "2016-02-03    217\n",
       "2016-02-04    243\n",
       "2016-02-05    220\n",
       "2016-02-06    251"
      ]
     },
     "execution_count": 194,
     "metadata": {},
     "output_type": "execute_result"
    }
   ],
   "source": [
    "useV1_counts= (useV1['date'].value_counts()\n",
    "            .rename('count').to_frame()\n",
    "            .sort_index())\n",
    "v2_counts= (v2['date'].value_counts()\n",
    "            .rename('count').to_frame()\n",
    "            .sort_index())\n",
    "v2_counts.head()"
   ]
  },
  {
   "cell_type": "code",
   "execution_count": 204,
   "metadata": {},
   "outputs": [
    {
     "data": {
      "text/plain": [
       "Int64Index([10,  1,  1,  1,  1,  1,  1,  1,  1,  1,\n",
       "            ...\n",
       "             9,  9,  9,  9,  9,  9,  9,  9,  9,  9],\n",
       "           dtype='int64', length=152)"
      ]
     },
     "execution_count": 204,
     "metadata": {},
     "output_type": "execute_result"
    }
   ],
   "source": [
    "useV1_counts.index.month"
   ]
  },
  {
   "cell_type": "code",
   "execution_count": 224,
   "metadata": {},
   "outputs": [
    {
     "data": {
      "image/png": "[encoded data removed]",
      "text/plain": [
       "<matplotlib.figure.Figure at 0x11ba3dc88>"
      ]
     },
     "metadata": {},
     "output_type": "display_data"
    }
   ],
   "source": [
    "fig,ax=plt.subplots(figsize=(9,4))\n",
    "ax.plot(v2_counts.index,v2_counts['count'],c='b',label='v2')\n",
    "ax.plot(useV1_counts.index,useV1_counts['count'],c='g',label='v1')\n",
    "iMid= ((useV1_counts.index.month == 10) & \n",
    "       (useV1_counts.index.year == 2016))\n",
    "ax.plot(useV1_counts.index[iMid],useV1_counts['count'][iMid],\n",
    "        marker='x',ms=20,c='r',label='20161016v1')\n",
    "ax.legend(fontsize=14)\n",
    "ax.set_xlabel(\"Night Observed\",fontsize=20)\n",
    "ax.set_ylabel(\"Number of ooi\",fontsize=20)\n",
    "plt.savefig(\"mosaic_ooi.png\",dpi=150)\n",
    "\n"
   ]
  },
  {
   "cell_type": "code",
   "execution_count": 188,
   "metadata": {},
   "outputs": [
    {
     "data": {
      "text/html": [
       "<div>\n",
       "<style>\n",
       "    .dataframe thead tr:only-child th {\n",
       "        text-align: right;\n",
       "    }\n",
       "\n",
       "    .dataframe thead th {\n",
       "        text-align: left;\n",
       "    }\n",
       "\n",
       "    .dataframe tbody tr th {\n",
       "        vertical-align: top;\n",
       "    }\n",
       "</style>\n",
       "<table border=\"1\" class=\"dataframe\">\n",
       "  <thead>\n",
       "    <tr style=\"text-align: right;\">\n",
       "      <th></th>\n",
       "    </tr>\n",
       "    <tr>\n",
       "      <th>date</th>\n",
       "    </tr>\n",
       "  </thead>\n",
       "  <tbody>\n",
       "    <tr>\n",
       "      <th>2016-02-02</th>\n",
       "    </tr>\n",
       "    <tr>\n",
       "      <th>2016-02-03</th>\n",
       "    </tr>\n",
       "    <tr>\n",
       "      <th>2016-02-04</th>\n",
       "    </tr>\n",
       "    <tr>\n",
       "      <th>2016-02-05</th>\n",
       "    </tr>\n",
       "    <tr>\n",
       "      <th>2016-02-06</th>\n",
       "    </tr>\n",
       "  </tbody>\n",
       "</table>\n",
       "</div>"
      ],
      "text/plain": [
       "Empty DataFrame\n",
       "Columns: []\n",
       "Index: [2016-02-02 00:00:00, 2016-02-03 00:00:00, 2016-02-04 00:00:00, 2016-02-05 00:00:00, 2016-02-06 00:00:00]"
      ]
     },
     "execution_count": 188,
     "metadata": {},
     "output_type": "execute_result"
    }
   ],
   "source": [
    "tally= (v2.loc[:,['date']]\n",
    "        .groupby(['date']).count()\n",
    "        .sort_index()\n",
    "       )\n",
    "tally.head()"
   ]
  },
  {
   "cell_type": "code",
   "execution_count": 166,
   "metadata": {},
   "outputs": [
    {
     "data": {
      "text/plain": [
       "(116968, 116968)"
      ]
     },
     "execution_count": 166,
     "metadata": {},
     "output_type": "execute_result"
    }
   ],
   "source": [
    "hasV2= ~merged['fn_v2'].isnull()\n",
    "hasV1noV2= (~hasV2) & (~merged['fn_v1'].isnull())\n",
    "merged.shape[0],merged[hasV2].shape[0]+merged[hasV1noV2].shape[0]\n",
    "                  \n",
    "#merged.shape,merged[~merged['cpdir_v2'].isnull()].shape\n",
    "#final.head().to_csv(sys.stdout)"
   ]
  },
  {
   "cell_type": "code",
   "execution_count": 171,
   "metadata": {},
   "outputs": [
    {
     "name": "stdout",
     "output_type": "stream",
     "text": [
      "(116968, 8)\n"
     ]
    },
    {
     "data": {
      "text/html": [
       "<div>\n",
       "<style>\n",
       "    .dataframe thead tr:only-child th {\n",
       "        text-align: right;\n",
       "    }\n",
       "\n",
       "    .dataframe thead th {\n",
       "        text-align: left;\n",
       "    }\n",
       "\n",
       "    .dataframe tbody tr th {\n",
       "        vertical-align: top;\n",
       "    }\n",
       "</style>\n",
       "<table border=\"1\" class=\"dataframe\">\n",
       "  <thead>\n",
       "    <tr style=\"text-align: right;\">\n",
       "      <th></th>\n",
       "      <th>absfn_v2</th>\n",
       "      <th>cpdir_v2</th>\n",
       "      <th>fn_v2</th>\n",
       "      <th>fn_end_v2</th>\n",
       "      <th>absfn_v1</th>\n",
       "      <th>cpdir_v1</th>\n",
       "      <th>fn_v1</th>\n",
       "      <th>fn_end_v1</th>\n",
       "    </tr>\n",
       "    <tr>\n",
       "      <th>NOv</th>\n",
       "      <th></th>\n",
       "      <th></th>\n",
       "      <th></th>\n",
       "      <th></th>\n",
       "      <th></th>\n",
       "      <th></th>\n",
       "      <th></th>\n",
       "      <th></th>\n",
       "    </tr>\n",
       "  </thead>\n",
       "  <tbody>\n",
       "    <tr>\n",
       "      <th>CP20160202</th>\n",
       "      <td>/project/projectdirs/cosmo/staging/mosaicz/MZL...</td>\n",
       "      <td>CP20160202v2</td>\n",
       "      <td>k4m_160203_015632_ooi_zd_v2.fits.fz</td>\n",
       "      <td>v2.fits.fz</td>\n",
       "      <td>NaN</td>\n",
       "      <td>NaN</td>\n",
       "      <td>NaN</td>\n",
       "      <td>NaN</td>\n",
       "    </tr>\n",
       "    <tr>\n",
       "      <th>CP20160202</th>\n",
       "      <td>/project/projectdirs/cosmo/staging/mosaicz/MZL...</td>\n",
       "      <td>CP20160202v2</td>\n",
       "      <td>k4m_160203_021214_ooi_zd_v2.fits.fz</td>\n",
       "      <td>v2.fits.fz</td>\n",
       "      <td>NaN</td>\n",
       "      <td>NaN</td>\n",
       "      <td>NaN</td>\n",
       "      <td>NaN</td>\n",
       "    </tr>\n",
       "    <tr>\n",
       "      <th>CP20160202</th>\n",
       "      <td>/project/projectdirs/cosmo/staging/mosaicz/MZL...</td>\n",
       "      <td>CP20160202v2</td>\n",
       "      <td>k4m_160203_022107_ooi_zd_v2.fits.fz</td>\n",
       "      <td>v2.fits.fz</td>\n",
       "      <td>NaN</td>\n",
       "      <td>NaN</td>\n",
       "      <td>NaN</td>\n",
       "      <td>NaN</td>\n",
       "    </tr>\n",
       "    <tr>\n",
       "      <th>CP20160202</th>\n",
       "      <td>/project/projectdirs/cosmo/staging/mosaicz/MZL...</td>\n",
       "      <td>CP20160202v2</td>\n",
       "      <td>k4m_160203_022518_ooi_zd_v2.fits.fz</td>\n",
       "      <td>v2.fits.fz</td>\n",
       "      <td>NaN</td>\n",
       "      <td>NaN</td>\n",
       "      <td>NaN</td>\n",
       "      <td>NaN</td>\n",
       "    </tr>\n",
       "    <tr>\n",
       "      <th>CP20160202</th>\n",
       "      <td>/project/projectdirs/cosmo/staging/mosaicz/MZL...</td>\n",
       "      <td>CP20160202v2</td>\n",
       "      <td>k4m_160203_022936_ooi_zd_v2.fits.fz</td>\n",
       "      <td>v2.fits.fz</td>\n",
       "      <td>NaN</td>\n",
       "      <td>NaN</td>\n",
       "      <td>NaN</td>\n",
       "      <td>NaN</td>\n",
       "    </tr>\n",
       "  </tbody>\n",
       "</table>\n",
       "</div>"
      ],
      "text/plain": [
       "                                                     absfn_v2      cpdir_v2  \\\n",
       "NOv                                                                           \n",
       "CP20160202  /project/projectdirs/cosmo/staging/mosaicz/MZL...  CP20160202v2   \n",
       "CP20160202  /project/projectdirs/cosmo/staging/mosaicz/MZL...  CP20160202v2   \n",
       "CP20160202  /project/projectdirs/cosmo/staging/mosaicz/MZL...  CP20160202v2   \n",
       "CP20160202  /project/projectdirs/cosmo/staging/mosaicz/MZL...  CP20160202v2   \n",
       "CP20160202  /project/projectdirs/cosmo/staging/mosaicz/MZL...  CP20160202v2   \n",
       "\n",
       "                                          fn_v2   fn_end_v2 absfn_v1 cpdir_v1  \\\n",
       "NOv                                                                             \n",
       "CP20160202  k4m_160203_015632_ooi_zd_v2.fits.fz  v2.fits.fz      NaN      NaN   \n",
       "CP20160202  k4m_160203_021214_ooi_zd_v2.fits.fz  v2.fits.fz      NaN      NaN   \n",
       "CP20160202  k4m_160203_022107_ooi_zd_v2.fits.fz  v2.fits.fz      NaN      NaN   \n",
       "CP20160202  k4m_160203_022518_ooi_zd_v2.fits.fz  v2.fits.fz      NaN      NaN   \n",
       "CP20160202  k4m_160203_022936_ooi_zd_v2.fits.fz  v2.fits.fz      NaN      NaN   \n",
       "\n",
       "           fn_v1 fn_end_v1  \n",
       "NOv                         \n",
       "CP20160202   NaN       NaN  \n",
       "CP20160202   NaN       NaN  \n",
       "CP20160202   NaN       NaN  \n",
       "CP20160202   NaN       NaN  \n",
       "CP20160202   NaN       NaN  "
      ]
     },
     "execution_count": 171,
     "metadata": {},
     "output_type": "execute_result"
    }
   ],
   "source": [
    "final= merged[(hasV2) | (hasV1noV2)]\n",
    "print(final.shape)\n",
    "final.head()\n",
    "                  "
   ]
  },
  {
   "cell_type": "code",
   "execution_count": 168,
   "metadata": {},
   "outputs": [],
   "source": [
    "final['date']= pd.to_datetime(final.index.str.replace('CP',''), \n",
    "               format='%Y%m%d')"
   ]
  },
  {
   "cell_type": "code",
   "execution_count": 170,
   "metadata": {},
   "outputs": [
    {
     "data": {
      "text/plain": [
       "(116968, 9)"
      ]
     },
     "execution_count": 170,
     "metadata": {},
     "output_type": "execute_result"
    }
   ],
   "source": [
    "final.shape"
   ]
  },
  {
   "cell_type": "code",
   "execution_count": 169,
   "metadata": {},
   "outputs": [
    {
     "data": {
      "text/html": [
       "<div>\n",
       "<style>\n",
       "    .dataframe thead tr:only-child th {\n",
       "        text-align: right;\n",
       "    }\n",
       "\n",
       "    .dataframe thead th {\n",
       "        text-align: left;\n",
       "    }\n",
       "\n",
       "    .dataframe tbody tr th {\n",
       "        vertical-align: top;\n",
       "    }\n",
       "</style>\n",
       "<table border=\"1\" class=\"dataframe\">\n",
       "  <thead>\n",
       "    <tr style=\"text-align: right;\">\n",
       "      <th></th>\n",
       "      <th>absfn_v2</th>\n",
       "      <th>cpdir_v2</th>\n",
       "      <th>fn_v2</th>\n",
       "      <th>fn_end_v2</th>\n",
       "      <th>absfn_v1</th>\n",
       "      <th>cpdir_v1</th>\n",
       "      <th>fn_v1</th>\n",
       "      <th>fn_end_v1</th>\n",
       "      <th>date</th>\n",
       "    </tr>\n",
       "    <tr>\n",
       "      <th>NOv</th>\n",
       "      <th></th>\n",
       "      <th></th>\n",
       "      <th></th>\n",
       "      <th></th>\n",
       "      <th></th>\n",
       "      <th></th>\n",
       "      <th></th>\n",
       "      <th></th>\n",
       "      <th></th>\n",
       "    </tr>\n",
       "  </thead>\n",
       "  <tbody>\n",
       "    <tr>\n",
       "      <th>CP20160202</th>\n",
       "      <td>/project/projectdirs/cosmo/staging/mosaicz/MZL...</td>\n",
       "      <td>CP20160202v2</td>\n",
       "      <td>k4m_160203_015632_ooi_zd_v2.fits.fz</td>\n",
       "      <td>v2.fits.fz</td>\n",
       "      <td>NaN</td>\n",
       "      <td>NaN</td>\n",
       "      <td>NaN</td>\n",
       "      <td>NaN</td>\n",
       "      <td>2016-02-02</td>\n",
       "    </tr>\n",
       "    <tr>\n",
       "      <th>CP20160202</th>\n",
       "      <td>/project/projectdirs/cosmo/staging/mosaicz/MZL...</td>\n",
       "      <td>CP20160202v2</td>\n",
       "      <td>k4m_160203_021214_ooi_zd_v2.fits.fz</td>\n",
       "      <td>v2.fits.fz</td>\n",
       "      <td>NaN</td>\n",
       "      <td>NaN</td>\n",
       "      <td>NaN</td>\n",
       "      <td>NaN</td>\n",
       "      <td>2016-02-02</td>\n",
       "    </tr>\n",
       "    <tr>\n",
       "      <th>CP20160202</th>\n",
       "      <td>/project/projectdirs/cosmo/staging/mosaicz/MZL...</td>\n",
       "      <td>CP20160202v2</td>\n",
       "      <td>k4m_160203_022107_ooi_zd_v2.fits.fz</td>\n",
       "      <td>v2.fits.fz</td>\n",
       "      <td>NaN</td>\n",
       "      <td>NaN</td>\n",
       "      <td>NaN</td>\n",
       "      <td>NaN</td>\n",
       "      <td>2016-02-02</td>\n",
       "    </tr>\n",
       "    <tr>\n",
       "      <th>CP20160202</th>\n",
       "      <td>/project/projectdirs/cosmo/staging/mosaicz/MZL...</td>\n",
       "      <td>CP20160202v2</td>\n",
       "      <td>k4m_160203_022518_ooi_zd_v2.fits.fz</td>\n",
       "      <td>v2.fits.fz</td>\n",
       "      <td>NaN</td>\n",
       "      <td>NaN</td>\n",
       "      <td>NaN</td>\n",
       "      <td>NaN</td>\n",
       "      <td>2016-02-02</td>\n",
       "    </tr>\n",
       "    <tr>\n",
       "      <th>CP20160202</th>\n",
       "      <td>/project/projectdirs/cosmo/staging/mosaicz/MZL...</td>\n",
       "      <td>CP20160202v2</td>\n",
       "      <td>k4m_160203_022936_ooi_zd_v2.fits.fz</td>\n",
       "      <td>v2.fits.fz</td>\n",
       "      <td>NaN</td>\n",
       "      <td>NaN</td>\n",
       "      <td>NaN</td>\n",
       "      <td>NaN</td>\n",
       "      <td>2016-02-02</td>\n",
       "    </tr>\n",
       "  </tbody>\n",
       "</table>\n",
       "</div>"
      ],
      "text/plain": [
       "                                                     absfn_v2      cpdir_v2  \\\n",
       "NOv                                                                           \n",
       "CP20160202  /project/projectdirs/cosmo/staging/mosaicz/MZL...  CP20160202v2   \n",
       "CP20160202  /project/projectdirs/cosmo/staging/mosaicz/MZL...  CP20160202v2   \n",
       "CP20160202  /project/projectdirs/cosmo/staging/mosaicz/MZL...  CP20160202v2   \n",
       "CP20160202  /project/projectdirs/cosmo/staging/mosaicz/MZL...  CP20160202v2   \n",
       "CP20160202  /project/projectdirs/cosmo/staging/mosaicz/MZL...  CP20160202v2   \n",
       "\n",
       "                                          fn_v2   fn_end_v2 absfn_v1 cpdir_v1  \\\n",
       "NOv                                                                             \n",
       "CP20160202  k4m_160203_015632_ooi_zd_v2.fits.fz  v2.fits.fz      NaN      NaN   \n",
       "CP20160202  k4m_160203_021214_ooi_zd_v2.fits.fz  v2.fits.fz      NaN      NaN   \n",
       "CP20160202  k4m_160203_022107_ooi_zd_v2.fits.fz  v2.fits.fz      NaN      NaN   \n",
       "CP20160202  k4m_160203_022518_ooi_zd_v2.fits.fz  v2.fits.fz      NaN      NaN   \n",
       "CP20160202  k4m_160203_022936_ooi_zd_v2.fits.fz  v2.fits.fz      NaN      NaN   \n",
       "\n",
       "           fn_v1 fn_end_v1       date  \n",
       "NOv                                    \n",
       "CP20160202   NaN       NaN 2016-02-02  \n",
       "CP20160202   NaN       NaN 2016-02-02  \n",
       "CP20160202   NaN       NaN 2016-02-02  \n",
       "CP20160202   NaN       NaN 2016-02-02  \n",
       "CP20160202   NaN       NaN 2016-02-02  "
      ]
     },
     "execution_count": 169,
     "metadata": {},
     "output_type": "execute_result"
    }
   ],
   "source": [
    "final.head()"
   ]
  },
  {
   "cell_type": "code",
   "execution_count": 150,
   "metadata": {},
   "outputs": [
    {
     "data": {
      "text/html": [
       "<div>\n",
       "<style>\n",
       "    .dataframe thead tr:only-child th {\n",
       "        text-align: right;\n",
       "    }\n",
       "\n",
       "    .dataframe thead th {\n",
       "        text-align: left;\n",
       "    }\n",
       "\n",
       "    .dataframe tbody tr th {\n",
       "        vertical-align: top;\n",
       "    }\n",
       "</style>\n",
       "<table border=\"1\" class=\"dataframe\">\n",
       "  <thead>\n",
       "    <tr style=\"text-align: right;\">\n",
       "      <th></th>\n",
       "      <th>absfn_v1</th>\n",
       "      <th>absfn_v2</th>\n",
       "      <th>fn_end_v1</th>\n",
       "      <th>fn_end_v2</th>\n",
       "      <th>date</th>\n",
       "      <th>isV2</th>\n",
       "      <th>isV1</th>\n",
       "    </tr>\n",
       "    <tr>\n",
       "      <th>NOv</th>\n",
       "      <th></th>\n",
       "      <th></th>\n",
       "      <th></th>\n",
       "      <th></th>\n",
       "      <th></th>\n",
       "      <th></th>\n",
       "      <th></th>\n",
       "    </tr>\n",
       "  </thead>\n",
       "  <tbody>\n",
       "    <tr>\n",
       "      <th>CP20160202</th>\n",
       "      <td>NaN</td>\n",
       "      <td>/project/projectdirs/cosmo/staging/mosaicz/MZL...</td>\n",
       "      <td>NaN</td>\n",
       "      <td>v2.fits.fz</td>\n",
       "      <td>2016-02-02</td>\n",
       "      <td>1</td>\n",
       "      <td>0</td>\n",
       "    </tr>\n",
       "    <tr>\n",
       "      <th>CP20160202</th>\n",
       "      <td>NaN</td>\n",
       "      <td>/project/projectdirs/cosmo/staging/mosaicz/MZL...</td>\n",
       "      <td>NaN</td>\n",
       "      <td>v2.fits.fz</td>\n",
       "      <td>2016-02-02</td>\n",
       "      <td>1</td>\n",
       "      <td>0</td>\n",
       "    </tr>\n",
       "    <tr>\n",
       "      <th>CP20160202</th>\n",
       "      <td>NaN</td>\n",
       "      <td>/project/projectdirs/cosmo/staging/mosaicz/MZL...</td>\n",
       "      <td>NaN</td>\n",
       "      <td>v2.fits.fz</td>\n",
       "      <td>2016-02-02</td>\n",
       "      <td>1</td>\n",
       "      <td>0</td>\n",
       "    </tr>\n",
       "    <tr>\n",
       "      <th>CP20160202</th>\n",
       "      <td>NaN</td>\n",
       "      <td>/project/projectdirs/cosmo/staging/mosaicz/MZL...</td>\n",
       "      <td>NaN</td>\n",
       "      <td>v2.fits.fz</td>\n",
       "      <td>2016-02-02</td>\n",
       "      <td>1</td>\n",
       "      <td>0</td>\n",
       "    </tr>\n",
       "    <tr>\n",
       "      <th>CP20160202</th>\n",
       "      <td>NaN</td>\n",
       "      <td>/project/projectdirs/cosmo/staging/mosaicz/MZL...</td>\n",
       "      <td>NaN</td>\n",
       "      <td>v2.fits.fz</td>\n",
       "      <td>2016-02-02</td>\n",
       "      <td>1</td>\n",
       "      <td>0</td>\n",
       "    </tr>\n",
       "  </tbody>\n",
       "</table>\n",
       "</div>"
      ],
      "text/plain": [
       "           absfn_v1                                           absfn_v2  \\\n",
       "NOv                                                                      \n",
       "CP20160202      NaN  /project/projectdirs/cosmo/staging/mosaicz/MZL...   \n",
       "CP20160202      NaN  /project/projectdirs/cosmo/staging/mosaicz/MZL...   \n",
       "CP20160202      NaN  /project/projectdirs/cosmo/staging/mosaicz/MZL...   \n",
       "CP20160202      NaN  /project/projectdirs/cosmo/staging/mosaicz/MZL...   \n",
       "CP20160202      NaN  /project/projectdirs/cosmo/staging/mosaicz/MZL...   \n",
       "\n",
       "           fn_end_v1   fn_end_v2       date  isV2  isV1  \n",
       "NOv                                                      \n",
       "CP20160202       NaN  v2.fits.fz 2016-02-02     1     0  \n",
       "CP20160202       NaN  v2.fits.fz 2016-02-02     1     0  \n",
       "CP20160202       NaN  v2.fits.fz 2016-02-02     1     0  \n",
       "CP20160202       NaN  v2.fits.fz 2016-02-02     1     0  \n",
       "CP20160202       NaN  v2.fits.fz 2016-02-02     1     0  "
      ]
     },
     "execution_count": 150,
     "metadata": {},
     "output_type": "execute_result"
    }
   ],
   "source": [
    "final['isV2']= np.zeros(final.shape[0]).astype(int)\n",
    "isV2= ~final['fn_end_v2'].isnull()\n",
    "final.loc[isV2,'isV2']= 1\n",
    "final['isV1']= np.zeros(final.shape[0]).astype(int)\n",
    "isV1= ~final['fn_end_v1'].isnull()\n",
    "final.loc[isV1,'isV1']= 1\n",
    "final.head()"
   ]
  },
  {
   "cell_type": "code",
   "execution_count": 154,
   "metadata": {},
   "outputs": [
    {
     "data": {
      "text/html": [
       "<div>\n",
       "<style>\n",
       "    .dataframe thead tr:only-child th {\n",
       "        text-align: right;\n",
       "    }\n",
       "\n",
       "    .dataframe thead th {\n",
       "        text-align: left;\n",
       "    }\n",
       "\n",
       "    .dataframe tbody tr th {\n",
       "        vertical-align: top;\n",
       "    }\n",
       "</style>\n",
       "<table border=\"1\" class=\"dataframe\">\n",
       "  <thead>\n",
       "    <tr style=\"text-align: right;\">\n",
       "      <th></th>\n",
       "      <th>isV2</th>\n",
       "      <th>isV1</th>\n",
       "    </tr>\n",
       "    <tr>\n",
       "      <th>date</th>\n",
       "      <th></th>\n",
       "      <th></th>\n",
       "    </tr>\n",
       "  </thead>\n",
       "  <tbody>\n",
       "    <tr>\n",
       "      <th>2016-02-02</th>\n",
       "      <td>234</td>\n",
       "      <td>0</td>\n",
       "    </tr>\n",
       "    <tr>\n",
       "      <th>2016-02-03</th>\n",
       "      <td>217</td>\n",
       "      <td>0</td>\n",
       "    </tr>\n",
       "    <tr>\n",
       "      <th>2016-02-04</th>\n",
       "      <td>243</td>\n",
       "      <td>0</td>\n",
       "    </tr>\n",
       "    <tr>\n",
       "      <th>2016-02-05</th>\n",
       "      <td>220</td>\n",
       "      <td>0</td>\n",
       "    </tr>\n",
       "    <tr>\n",
       "      <th>2016-02-06</th>\n",
       "      <td>251</td>\n",
       "      <td>0</td>\n",
       "    </tr>\n",
       "  </tbody>\n",
       "</table>\n",
       "</div>"
      ],
      "text/plain": [
       "            isV2  isV1\n",
       "date                  \n",
       "2016-02-02   234     0\n",
       "2016-02-03   217     0\n",
       "2016-02-04   243     0\n",
       "2016-02-05   220     0\n",
       "2016-02-06   251     0"
      ]
     },
     "execution_count": 154,
     "metadata": {},
     "output_type": "execute_result"
    }
   ],
   "source": [
    "tally= (final.loc[:,['date','isV2','isV1']]\n",
    "        .groupby(['date']).sum()\n",
    "        .sort_index()\n",
    "       )\n",
    "tally.head()"
   ]
  },
  {
   "cell_type": "code",
   "execution_count": 159,
   "metadata": {},
   "outputs": [
    {
     "ename": "ValueError",
     "evalue": "Location based indexing can only have [integer, integer slice (START point is INCLUDED, END point is EXCLUDED), listlike of integers, boolean array] types",
     "output_type": "error",
     "traceback": [
      "\u001b[0;31m---------------------------------------------------------------------------\u001b[0m",
      "\u001b[0;31mValueError\u001b[0m                                Traceback (most recent call last)",
      "\u001b[0;32m<ipython-input-159-7a0391c975d0>\u001b[0m in \u001b[0;36m<module>\u001b[0;34m()\u001b[0m\n\u001b[0;32m----> 1\u001b[0;31m \u001b[0mtally\u001b[0m\u001b[0;34m.\u001b[0m\u001b[0miloc\u001b[0m\u001b[0;34m[\u001b[0m\u001b[0mtally\u001b[0m\u001b[0;34m[\u001b[0m\u001b[0;34m'isV2'\u001b[0m\u001b[0;34m]\u001b[0m\u001b[0;34m.\u001b[0m\u001b[0margmax\u001b[0m\u001b[0;34m(\u001b[0m\u001b[0;34m)\u001b[0m\u001b[0;34m,\u001b[0m\u001b[0;34m:\u001b[0m\u001b[0;34m]\u001b[0m\u001b[0;34m\u001b[0m\u001b[0m\n\u001b[0m",
      "\u001b[0;32m~/miniconda3/envs/ds100/lib/python3.6/site-packages/pandas/core/indexing.py\u001b[0m in \u001b[0;36m__getitem__\u001b[0;34m(self, key)\u001b[0m\n\u001b[1;32m   1323\u001b[0m             \u001b[0;32mexcept\u001b[0m \u001b[0;34m(\u001b[0m\u001b[0mKeyError\u001b[0m\u001b[0;34m,\u001b[0m \u001b[0mIndexError\u001b[0m\u001b[0;34m)\u001b[0m\u001b[0;34m:\u001b[0m\u001b[0;34m\u001b[0m\u001b[0m\n\u001b[1;32m   1324\u001b[0m                 \u001b[0;32mpass\u001b[0m\u001b[0;34m\u001b[0m\u001b[0m\n\u001b[0;32m-> 1325\u001b[0;31m             \u001b[0;32mreturn\u001b[0m \u001b[0mself\u001b[0m\u001b[0;34m.\u001b[0m\u001b[0m_getitem_tuple\u001b[0m\u001b[0;34m(\u001b[0m\u001b[0mkey\u001b[0m\u001b[0;34m)\u001b[0m\u001b[0;34m\u001b[0m\u001b[0m\n\u001b[0m\u001b[1;32m   1326\u001b[0m         \u001b[0;32melse\u001b[0m\u001b[0;34m:\u001b[0m\u001b[0;34m\u001b[0m\u001b[0m\n\u001b[1;32m   1327\u001b[0m             \u001b[0mkey\u001b[0m \u001b[0;34m=\u001b[0m \u001b[0mcom\u001b[0m\u001b[0;34m.\u001b[0m\u001b[0m_apply_if_callable\u001b[0m\u001b[0;34m(\u001b[0m\u001b[0mkey\u001b[0m\u001b[0;34m,\u001b[0m \u001b[0mself\u001b[0m\u001b[0;34m.\u001b[0m\u001b[0mobj\u001b[0m\u001b[0;34m)\u001b[0m\u001b[0;34m\u001b[0m\u001b[0m\n",
      "\u001b[0;32m~/miniconda3/envs/ds100/lib/python3.6/site-packages/pandas/core/indexing.py\u001b[0m in \u001b[0;36m_getitem_tuple\u001b[0;34m(self, tup)\u001b[0m\n\u001b[1;32m   1660\u001b[0m     \u001b[0;32mdef\u001b[0m \u001b[0m_getitem_tuple\u001b[0m\u001b[0;34m(\u001b[0m\u001b[0mself\u001b[0m\u001b[0;34m,\u001b[0m \u001b[0mtup\u001b[0m\u001b[0;34m)\u001b[0m\u001b[0;34m:\u001b[0m\u001b[0;34m\u001b[0m\u001b[0m\n\u001b[1;32m   1661\u001b[0m \u001b[0;34m\u001b[0m\u001b[0m\n\u001b[0;32m-> 1662\u001b[0;31m         \u001b[0mself\u001b[0m\u001b[0;34m.\u001b[0m\u001b[0m_has_valid_tuple\u001b[0m\u001b[0;34m(\u001b[0m\u001b[0mtup\u001b[0m\u001b[0;34m)\u001b[0m\u001b[0;34m\u001b[0m\u001b[0m\n\u001b[0m\u001b[1;32m   1663\u001b[0m         \u001b[0;32mtry\u001b[0m\u001b[0;34m:\u001b[0m\u001b[0;34m\u001b[0m\u001b[0m\n\u001b[1;32m   1664\u001b[0m             \u001b[0;32mreturn\u001b[0m \u001b[0mself\u001b[0m\u001b[0;34m.\u001b[0m\u001b[0m_getitem_lowerdim\u001b[0m\u001b[0;34m(\u001b[0m\u001b[0mtup\u001b[0m\u001b[0;34m)\u001b[0m\u001b[0;34m\u001b[0m\u001b[0m\n",
      "\u001b[0;32m~/miniconda3/envs/ds100/lib/python3.6/site-packages/pandas/core/indexing.py\u001b[0m in \u001b[0;36m_has_valid_tuple\u001b[0;34m(self, key)\u001b[0m\n\u001b[1;32m    189\u001b[0m             \u001b[0;32mif\u001b[0m \u001b[0;32mnot\u001b[0m \u001b[0mself\u001b[0m\u001b[0;34m.\u001b[0m\u001b[0m_has_valid_type\u001b[0m\u001b[0;34m(\u001b[0m\u001b[0mk\u001b[0m\u001b[0;34m,\u001b[0m \u001b[0mi\u001b[0m\u001b[0;34m)\u001b[0m\u001b[0;34m:\u001b[0m\u001b[0;34m\u001b[0m\u001b[0m\n\u001b[1;32m    190\u001b[0m                 raise ValueError(\"Location based indexing can only have [%s] \"\n\u001b[0;32m--> 191\u001b[0;31m                                  \"types\" % self._valid_types)\n\u001b[0m\u001b[1;32m    192\u001b[0m \u001b[0;34m\u001b[0m\u001b[0m\n\u001b[1;32m    193\u001b[0m     \u001b[0;32mdef\u001b[0m \u001b[0m_should_validate_iterable\u001b[0m\u001b[0;34m(\u001b[0m\u001b[0mself\u001b[0m\u001b[0;34m,\u001b[0m \u001b[0maxis\u001b[0m\u001b[0;34m=\u001b[0m\u001b[0;36m0\u001b[0m\u001b[0;34m)\u001b[0m\u001b[0;34m:\u001b[0m\u001b[0;34m\u001b[0m\u001b[0m\n",
      "\u001b[0;31mValueError\u001b[0m: Location based indexing can only have [integer, integer slice (START point is INCLUDED, END point is EXCLUDED), listlike of integers, boolean array] types"
     ]
    }
   ],
   "source": [
    "tally.iloc[tally['isV2'].argmax(),:]"
   ]
  },
  {
   "cell_type": "code",
   "execution_count": 155,
   "metadata": {},
   "outputs": [
    {
     "data": {
      "text/plain": [
       "[<matplotlib.lines.Line2D at 0x114940940>]"
      ]
     },
     "execution_count": 155,
     "metadata": {},
     "output_type": "execute_result"
    },
    {
     "data": {
      "image/png": "[encoded data removed]",
      "text/plain": [
       "<matplotlib.figure.Figure at 0x1122e0438>"
      ]
     },
     "metadata": {},
     "output_type": "display_data"
    }
   ],
   "source": [
    "plt.plot(tally.index,tally['isV2'],c='b',label='v2')\n",
    "plt.plot(tally.index,tally['isV1'],c='g',label='v1')\n"
   ]
  },
  {
   "cell_type": "code",
   "execution_count": 47,
   "metadata": {},
   "outputs": [
    {
     "ename": "IndexError",
     "evalue": "single positional indexer is out-of-bounds",
     "output_type": "error",
     "traceback": [
      "\u001b[0;31m---------------------------------------------------------------------------\u001b[0m",
      "\u001b[0;31mIndexError\u001b[0m                                Traceback (most recent call last)",
      "\u001b[0;32m<ipython-input-47-534f9d779501>\u001b[0m in \u001b[0;36m<module>\u001b[0;34m()\u001b[0m\n\u001b[1;32m      1\u001b[0m \u001b[0;32mimport\u001b[0m \u001b[0msys\u001b[0m\u001b[0;34m\u001b[0m\u001b[0m\n\u001b[1;32m      2\u001b[0m (df[df['cpdir'].isnull()]\n\u001b[0;32m----> 3\u001b[0;31m  \u001b[0;34m.\u001b[0m\u001b[0miloc\u001b[0m\u001b[0;34m[\u001b[0m\u001b[0;36m0\u001b[0m\u001b[0;34m,\u001b[0m\u001b[0;34m:\u001b[0m\u001b[0;34m]\u001b[0m\u001b[0;34m\u001b[0m\u001b[0m\n\u001b[0m\u001b[1;32m      4\u001b[0m  .to_csv(sys.stdout))\n",
      "\u001b[0;32m~/miniconda3/envs/ds100/lib/python3.6/site-packages/pandas/core/indexing.py\u001b[0m in \u001b[0;36m__getitem__\u001b[0;34m(self, key)\u001b[0m\n\u001b[1;32m   1323\u001b[0m             \u001b[0;32mexcept\u001b[0m \u001b[0;34m(\u001b[0m\u001b[0mKeyError\u001b[0m\u001b[0;34m,\u001b[0m \u001b[0mIndexError\u001b[0m\u001b[0;34m)\u001b[0m\u001b[0;34m:\u001b[0m\u001b[0;34m\u001b[0m\u001b[0m\n\u001b[1;32m   1324\u001b[0m                 \u001b[0;32mpass\u001b[0m\u001b[0;34m\u001b[0m\u001b[0m\n\u001b[0;32m-> 1325\u001b[0;31m             \u001b[0;32mreturn\u001b[0m \u001b[0mself\u001b[0m\u001b[0;34m.\u001b[0m\u001b[0m_getitem_tuple\u001b[0m\u001b[0;34m(\u001b[0m\u001b[0mkey\u001b[0m\u001b[0;34m)\u001b[0m\u001b[0;34m\u001b[0m\u001b[0m\n\u001b[0m\u001b[1;32m   1326\u001b[0m         \u001b[0;32melse\u001b[0m\u001b[0;34m:\u001b[0m\u001b[0;34m\u001b[0m\u001b[0m\n\u001b[1;32m   1327\u001b[0m             \u001b[0mkey\u001b[0m \u001b[0;34m=\u001b[0m \u001b[0mcom\u001b[0m\u001b[0;34m.\u001b[0m\u001b[0m_apply_if_callable\u001b[0m\u001b[0;34m(\u001b[0m\u001b[0mkey\u001b[0m\u001b[0;34m,\u001b[0m \u001b[0mself\u001b[0m\u001b[0;34m.\u001b[0m\u001b[0mobj\u001b[0m\u001b[0;34m)\u001b[0m\u001b[0;34m\u001b[0m\u001b[0m\n",
      "\u001b[0;32m~/miniconda3/envs/ds100/lib/python3.6/site-packages/pandas/core/indexing.py\u001b[0m in \u001b[0;36m_getitem_tuple\u001b[0;34m(self, tup)\u001b[0m\n\u001b[1;32m   1660\u001b[0m     \u001b[0;32mdef\u001b[0m \u001b[0m_getitem_tuple\u001b[0m\u001b[0;34m(\u001b[0m\u001b[0mself\u001b[0m\u001b[0;34m,\u001b[0m \u001b[0mtup\u001b[0m\u001b[0;34m)\u001b[0m\u001b[0;34m:\u001b[0m\u001b[0;34m\u001b[0m\u001b[0m\n\u001b[1;32m   1661\u001b[0m \u001b[0;34m\u001b[0m\u001b[0m\n\u001b[0;32m-> 1662\u001b[0;31m         \u001b[0mself\u001b[0m\u001b[0;34m.\u001b[0m\u001b[0m_has_valid_tuple\u001b[0m\u001b[0;34m(\u001b[0m\u001b[0mtup\u001b[0m\u001b[0;34m)\u001b[0m\u001b[0;34m\u001b[0m\u001b[0m\n\u001b[0m\u001b[1;32m   1663\u001b[0m         \u001b[0;32mtry\u001b[0m\u001b[0;34m:\u001b[0m\u001b[0;34m\u001b[0m\u001b[0m\n\u001b[1;32m   1664\u001b[0m             \u001b[0;32mreturn\u001b[0m \u001b[0mself\u001b[0m\u001b[0;34m.\u001b[0m\u001b[0m_getitem_lowerdim\u001b[0m\u001b[0;34m(\u001b[0m\u001b[0mtup\u001b[0m\u001b[0;34m)\u001b[0m\u001b[0;34m\u001b[0m\u001b[0m\n",
      "\u001b[0;32m~/miniconda3/envs/ds100/lib/python3.6/site-packages/pandas/core/indexing.py\u001b[0m in \u001b[0;36m_has_valid_tuple\u001b[0;34m(self, key)\u001b[0m\n\u001b[1;32m    187\u001b[0m             \u001b[0;32mif\u001b[0m \u001b[0mi\u001b[0m \u001b[0;34m>=\u001b[0m \u001b[0mself\u001b[0m\u001b[0;34m.\u001b[0m\u001b[0mobj\u001b[0m\u001b[0;34m.\u001b[0m\u001b[0mndim\u001b[0m\u001b[0;34m:\u001b[0m\u001b[0;34m\u001b[0m\u001b[0m\n\u001b[1;32m    188\u001b[0m                 \u001b[0;32mraise\u001b[0m \u001b[0mIndexingError\u001b[0m\u001b[0;34m(\u001b[0m\u001b[0;34m'Too many indexers'\u001b[0m\u001b[0;34m)\u001b[0m\u001b[0;34m\u001b[0m\u001b[0m\n\u001b[0;32m--> 189\u001b[0;31m             \u001b[0;32mif\u001b[0m \u001b[0;32mnot\u001b[0m \u001b[0mself\u001b[0m\u001b[0;34m.\u001b[0m\u001b[0m_has_valid_type\u001b[0m\u001b[0;34m(\u001b[0m\u001b[0mk\u001b[0m\u001b[0;34m,\u001b[0m \u001b[0mi\u001b[0m\u001b[0;34m)\u001b[0m\u001b[0;34m:\u001b[0m\u001b[0;34m\u001b[0m\u001b[0m\n\u001b[0m\u001b[1;32m    190\u001b[0m                 raise ValueError(\"Location based indexing can only have [%s] \"\n\u001b[1;32m    191\u001b[0m                                  \"types\" % self._valid_types)\n",
      "\u001b[0;32m~/miniconda3/envs/ds100/lib/python3.6/site-packages/pandas/core/indexing.py\u001b[0m in \u001b[0;36m_has_valid_type\u001b[0;34m(self, key, axis)\u001b[0m\n\u001b[1;32m   1595\u001b[0m             \u001b[0;32mreturn\u001b[0m \u001b[0;32mTrue\u001b[0m\u001b[0;34m\u001b[0m\u001b[0m\n\u001b[1;32m   1596\u001b[0m         \u001b[0;32melif\u001b[0m \u001b[0mis_integer\u001b[0m\u001b[0;34m(\u001b[0m\u001b[0mkey\u001b[0m\u001b[0;34m)\u001b[0m\u001b[0;34m:\u001b[0m\u001b[0;34m\u001b[0m\u001b[0m\n\u001b[0;32m-> 1597\u001b[0;31m             \u001b[0;32mreturn\u001b[0m \u001b[0mself\u001b[0m\u001b[0;34m.\u001b[0m\u001b[0m_is_valid_integer\u001b[0m\u001b[0;34m(\u001b[0m\u001b[0mkey\u001b[0m\u001b[0;34m,\u001b[0m \u001b[0maxis\u001b[0m\u001b[0;34m)\u001b[0m\u001b[0;34m\u001b[0m\u001b[0m\n\u001b[0m\u001b[1;32m   1598\u001b[0m         \u001b[0;32melif\u001b[0m \u001b[0mis_list_like_indexer\u001b[0m\u001b[0;34m(\u001b[0m\u001b[0mkey\u001b[0m\u001b[0;34m)\u001b[0m\u001b[0;34m:\u001b[0m\u001b[0;34m\u001b[0m\u001b[0m\n\u001b[1;32m   1599\u001b[0m             \u001b[0;32mreturn\u001b[0m \u001b[0mself\u001b[0m\u001b[0;34m.\u001b[0m\u001b[0m_is_valid_list_like\u001b[0m\u001b[0;34m(\u001b[0m\u001b[0mkey\u001b[0m\u001b[0;34m,\u001b[0m \u001b[0maxis\u001b[0m\u001b[0;34m)\u001b[0m\u001b[0;34m\u001b[0m\u001b[0m\n",
      "\u001b[0;32m~/miniconda3/envs/ds100/lib/python3.6/site-packages/pandas/core/indexing.py\u001b[0m in \u001b[0;36m_is_valid_integer\u001b[0;34m(self, key, axis)\u001b[0m\n\u001b[1;32m   1636\u001b[0m         \u001b[0ml\u001b[0m \u001b[0;34m=\u001b[0m \u001b[0mlen\u001b[0m\u001b[0;34m(\u001b[0m\u001b[0max\u001b[0m\u001b[0;34m)\u001b[0m\u001b[0;34m\u001b[0m\u001b[0m\n\u001b[1;32m   1637\u001b[0m         \u001b[0;32mif\u001b[0m \u001b[0mkey\u001b[0m \u001b[0;34m>=\u001b[0m \u001b[0ml\u001b[0m \u001b[0;32mor\u001b[0m \u001b[0mkey\u001b[0m \u001b[0;34m<\u001b[0m \u001b[0;34m-\u001b[0m\u001b[0ml\u001b[0m\u001b[0;34m:\u001b[0m\u001b[0;34m\u001b[0m\u001b[0m\n\u001b[0;32m-> 1638\u001b[0;31m             \u001b[0;32mraise\u001b[0m \u001b[0mIndexError\u001b[0m\u001b[0;34m(\u001b[0m\u001b[0;34m\"single positional indexer is out-of-bounds\"\u001b[0m\u001b[0;34m)\u001b[0m\u001b[0;34m\u001b[0m\u001b[0m\n\u001b[0m\u001b[1;32m   1639\u001b[0m         \u001b[0;32mreturn\u001b[0m \u001b[0;32mTrue\u001b[0m\u001b[0;34m\u001b[0m\u001b[0m\n\u001b[1;32m   1640\u001b[0m \u001b[0;34m\u001b[0m\u001b[0m\n",
      "\u001b[0;31mIndexError\u001b[0m: single positional indexer is out-of-bounds"
     ]
    }
   ],
   "source": [
    "import sys\n",
    "(df[df['cpdir'].isnull()]\n",
    " .iloc[0,:]\n",
    " .to_csv(sys.stdout))"
   ]
  },
  {
   "cell_type": "code",
   "execution_count": null,
   "metadata": {
    "collapsed": true
   },
   "outputs": [],
   "source": []
  }
 ],
 "metadata": {
  "kernelspec": {
   "display_name": "Python 3",
   "language": "python",
   "name": "python3"
  },
  "language_info": {
   "codemirror_mode": {
    "name": "ipython",
    "version": 3
   },
   "file_extension": ".py",
   "mimetype": "text/x-python",
   "name": "python",
   "nbconvert_exporter": "python",
   "pygments_lexer": "ipython3",
   "version": "3.6.2"
  }
 },
 "nbformat": 4,
 "nbformat_minor": 2
}
