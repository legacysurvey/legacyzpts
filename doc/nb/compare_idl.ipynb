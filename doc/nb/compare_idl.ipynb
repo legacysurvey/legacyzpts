{
 "cells": [
  {
   "cell_type": "markdown",
   "metadata": {},
   "source": [
    "# Legacy Zeropoints vs. Obsdb"
   ]
  },
  {
   "cell_type": "code",
   "execution_count": 59,
   "metadata": {},
   "outputs": [
    {
     "name": "stdout",
     "output_type": "stream",
     "text": [
      "The autoreload extension is already loaded. To reload it, use:\n",
      "  %reload_ext autoreload\n"
     ]
    }
   ],
   "source": [
    "%matplotlib inline\n",
    "%load_ext autoreload\n",
    "%autoreload 2\n",
    "\n",
    "import numpy as np\n",
    "import matplotlib.pyplot as plt\n",
    "import fitsio\n",
    "from glob import glob\n",
    "import os\n",
    "import pandas as pd\n",
    "import matplotlib.patches as mpatches\n",
    "from matplotlib.collections import PatchCollection\n",
    "from scipy.stats import sigmaclip\n",
    "from photutils import (CircularAperture, CircularAnnulus,\n",
    "                               aperture_photometry, daofind)\n",
    "\n",
    "from astrometry.util.fits import fits_table, merge_tables"
   ]
  },
  {
   "cell_type": "code",
   "execution_count": 2,
   "metadata": {
    "collapsed": true
   },
   "outputs": [],
   "source": [
    "from obiwan.common import fits2pandas\n",
    "\n",
    "from legacyzpts.qa.compare_idlzpts import ZptResiduals, StarResiduals\n",
    "from legacyzpts.fetch import fetch_targz"
   ]
  },
  {
   "cell_type": "markdown",
   "metadata": {},
   "source": [
    "# legacyzpts/test/test_compare_legacy_idl.py"
   ]
  },
  {
   "cell_type": "code",
   "execution_count": 58,
   "metadata": {},
   "outputs": [],
   "source": [
    "from legacyzpts.test.test_compare_legacy_idl \\\n",
    "    import test_zpts_decam,test_stars_decam"
   ]
  },
  {
   "cell_type": "code",
   "execution_count": 5,
   "metadata": {},
   "outputs": [
    {
     "name": "stdout",
     "output_type": "stream",
     "text": [
      "test_zpts_decam\n",
      "Already exists: /home/kaylan/myrepo/legacyzpts/py/legacyzpts/test/testdata/idl_legacy_data.tar.gz\n",
      "Merged zpt data: zpts=183\n",
      "Merged zpt data: zpts=180\n",
      "Wrote /home/kaylan/myrepo/legacyzpts/py/legacyzpts/test/testoutput_shared/expnum2exptime.json\n",
      "Wrote /home/kaylan/myrepo/legacyzpts/py/legacyzpts/test/testoutput_shared/expnum2gain.json\n",
      "test_stars_decam\n",
      "Already exists: /home/kaylan/myrepo/legacyzpts/py/legacyzpts/test/testdata/idl_legacy_data.tar.gz\n",
      "Merged zpt data: zpts=13278\n",
      "Merged zpt data: zpts=13354\n",
      "Read /home/kaylan/myrepo/legacyzpts/py/legacyzpts/test/testoutput_shared/expnum2exptime.json\n",
      "Read /home/kaylan/myrepo/legacyzpts/py/legacyzpts/test/testoutput_shared/expnum2gain.json\n"
     ]
    }
   ],
   "source": [
    "zpt= test_zpts_decam(plot=False)\n",
    "star= test_stars_decam(plot=False)"
   ]
  },
  {
   "cell_type": "code",
   "execution_count": 7,
   "metadata": {},
   "outputs": [
    {
     "data": {
      "text/plain": [
       "<bound method tabledata.columns of <tabledata object with 180 rows and 43 columns: crpix1, crpix2, seeing, ccdraoff, cd2_1, ccdzpt, cd2_2, propid, fwhm, naxis1, naxis2, zpt, filename, ccdra, ccdnmatch, ra, ccdrarms, ccdtransp, dec, airmass, crval2, crval1, ccdname, ccdphoff, object, ccdskyrms, ccddecrms, avsky, cd1_1, ccddec, expnum, ha, exptime, cd1_2, date_obs, ccddecoff, ut, filter, ccdskycounts, ccdskymag, ccdnum, ccdphrms, mjd_obs>>"
      ]
     },
     "execution_count": 7,
     "metadata": {},
     "output_type": "execute_result"
    }
   ],
   "source": [
    "zpt.legacy.data.columns"
   ]
  },
  {
   "cell_type": "code",
   "execution_count": 13,
   "metadata": {},
   "outputs": [
    {
     "data": {
      "text/plain": [
       "<bound method tabledata.columns of <tabledata object with 12856 rows and 20 columns: raoff, ccd_y, ccd_sky, magoff, image_hdu, ccd_x, filename, ccd_mag, decoff, ccd_ra, gmag, expnum, nmatch, ccd_dec, ps1_g, ps1_i, extname, filter, ps1_r, ps1_z>>"
      ]
     },
     "execution_count": 13,
     "metadata": {},
     "output_type": "execute_result"
    }
   ],
   "source": [
    "star.legacy.data.columns"
   ]
  },
  {
   "cell_type": "code",
   "execution_count": 8,
   "metadata": {},
   "outputs": [
    {
     "data": {
      "text/plain": [
       "array([-0.17165466, -0.19786575, -0.16340698, -0.19948733, -0.05585163,\n",
       "       -0.19300875, -0.08995221, -0.11424308, -0.15971962, -0.13884135], dtype=float32)"
      ]
     },
     "execution_count": 8,
     "metadata": {},
     "output_type": "execute_result"
    }
   ],
   "source": [
    "zpt.legacy.data.ccdphoff[:10]"
   ]
  },
  {
   "cell_type": "code",
   "execution_count": 9,
   "metadata": {},
   "outputs": [
    {
     "data": {
      "text/plain": [
       "array([ 0.02200323, -0.00546677,  0.0927227 ,  0.07831062,  0.01621491,\n",
       "        0.05363761, -0.01175174,  0.01048197,  0.03751214,  0.04611161], dtype=float32)"
      ]
     },
     "execution_count": 9,
     "metadata": {},
     "output_type": "execute_result"
    }
   ],
   "source": [
    "zpt.idl.data.ccdphoff[:10]"
   ]
  },
  {
   "cell_type": "code",
   "execution_count": 14,
   "metadata": {},
   "outputs": [
    {
     "data": {
      "text/plain": [
       "array([ 0.0170517 ,  0.03237915,  0.22123909,  0.02169037,  0.02754211,\n",
       "        0.01263428, -0.0428009 ,  0.00880814,  0.02700996,  0.01550484], dtype=float32)"
      ]
     },
     "execution_count": 14,
     "metadata": {},
     "output_type": "execute_result"
    }
   ],
   "source": [
    "star.legacy.data.magoff[:10]"
   ]
  },
  {
   "cell_type": "code",
   "execution_count": 15,
   "metadata": {},
   "outputs": [
    {
     "data": {
      "text/plain": [
       "array([ 0.01794766,  0.03239455,  0.22445528,  0.02185543,  0.02787409,\n",
       "        0.01561843, -0.0050574 ,  0.01482865,  0.0385462 ,  0.0181986 ], dtype=float32)"
      ]
     },
     "execution_count": 15,
     "metadata": {},
     "output_type": "execute_result"
    }
   ],
   "source": [
    "star.idl.data.magoff[:10]"
   ]
  },
  {
   "cell_type": "markdown",
   "metadata": {},
   "source": [
    "### There is a 10 mmag offset between idl and legacy for the median ps1 apmag difference"
   ]
  },
  {
   "cell_type": "code",
   "execution_count": 31,
   "metadata": {},
   "outputs": [
    {
     "name": "stdout",
     "output_type": "stream",
     "text": [
      "-0.102841\n"
     ]
    },
    {
     "data": {
      "image/png": "[encoded data removed]",
      "text/plain": [
       "<matplotlib.figure.Figure at 0x7f5fd2d9a590>"
      ]
     },
     "metadata": {},
     "output_type": "display_data"
    }
   ],
   "source": [
    "_=plt.hist(zpt.legacy.data.ccdphoff,label='legacy',\n",
    "           histtype='step')\n",
    "_=plt.hist(zpt.idl.data.ccdphoff,label='idl',\n",
    "           histtype='step')\n",
    "plt.legend()\n",
    "plt.xlabel('median 2.5 sigma clippd (ps1 - apmag)')\n",
    "print(np.median(zpt.legacy.data.ccdphoff))"
   ]
  },
  {
   "cell_type": "markdown",
   "metadata": {},
   "source": [
    "#### Is this in the -zpt.fits file?"
   ]
  },
  {
   "cell_type": "code",
   "execution_count": 52,
   "metadata": {},
   "outputs": [],
   "source": [
    "raw_dir= \"/home/kaylan/myrepo/legacyzpts/py/legacyzpts/test\"\n",
    "raw= fits_table(os.path.join(raw_dir,\n",
    "        'testoutput_zpts/temptable_decam_legacy.fits'))"
   ]
  },
  {
   "cell_type": "code",
   "execution_count": 53,
   "metadata": {},
   "outputs": [
    {
     "data": {
      "text/plain": [
       "-0.10284059"
      ]
     },
     "execution_count": 53,
     "metadata": {},
     "output_type": "execute_result"
    },
    {
     "data": {
      "image/png": "[encoded data removed]",
      "text/plain": [
       "<matplotlib.figure.Figure at 0x7f5fd263aed0>"
      ]
     },
     "metadata": {},
     "output_type": "display_data"
    }
   ],
   "source": [
    "_=plt.hist(raw.phoff,label='-zpt.fits file',\n",
    "           histtype='step')\n",
    "plt.legend()\n",
    "plt.xlabel('median 2.5 sigma clippd (ps1 - apmag)')\n",
    "np.median(raw.phoff)"
   ]
  },
  {
   "cell_type": "markdown",
   "metadata": {},
   "source": [
    "### But how can the median phoff exist when we don't see it in that stars table?? it must be due to units or something between idl and legacy b/c both legacy and idl have good ps1 - apmag distribution for all stars"
   ]
  },
  {
   "cell_type": "code",
   "execution_count": 35,
   "metadata": {},
   "outputs": [
    {
     "name": "stdout",
     "output_type": "stream",
     "text": [
      "-0.0156708\n"
     ]
    },
    {
     "data": {
      "image/png": "[encoded data removed]",
      "text/plain": [
       "<matplotlib.figure.Figure at 0x7f5fd26e0e10>"
      ]
     },
     "metadata": {},
     "output_type": "display_data"
    }
   ],
   "source": [
    "legacy_magoff, _, _ = sigmaclip(star.legacy.data.magoff)\n",
    "idl_magoff, _, _ = sigmaclip(star.idl.data.magoff)\n",
    "\n",
    "_=plt.hist(legacy_magoff,label='legacy',\n",
    "           histtype='step')\n",
    "_=plt.hist(idl_magoff,label='idl',\n",
    "           histtype='step')\n",
    "plt.legend()\n",
    "plt.xlabel('ps1 - apmag for each star in sample')\n",
    "print(np.median(legacy_magoff))"
   ]
  },
  {
   "cell_type": "code",
   "execution_count": 54,
   "metadata": {},
   "outputs": [],
   "source": [
    "raw_star= fits_table(os.path.join(raw_dir,\n",
    "        'testoutput_stars/temptable_decam_legacy.fits'))"
   ]
  },
  {
   "cell_type": "code",
   "execution_count": 55,
   "metadata": {},
   "outputs": [
    {
     "data": {
      "text/plain": [
       "<bound method tabledata.columns of <tabledata object with 13354 rows and 31 columns: expid, daofind_y, daofind_x, amplifier, decdiff_ps1, image_filename, radiff_ps1, image_hdu, radiff, ps1_mag, apmag, ra, gaia_dec, mycuts_x, apflux, mycuts_y, gaia_ra, expnum, nmatch, decdiff, ps1_g, ps1_gicolor, gaia_g, filter, ps1_r, ps1_i, y, x, ps1_z, dec, apskyflux>>"
      ]
     },
     "execution_count": 55,
     "metadata": {},
     "output_type": "execute_result"
    }
   ],
   "source": [
    "raw_star.columns"
   ]
  },
  {
   "cell_type": "code",
   "execution_count": 56,
   "metadata": {},
   "outputs": [
    {
     "data": {
      "text/plain": [
       "<matplotlib.text.Text at 0x7f5fd21a40d0>"
      ]
     },
     "execution_count": 56,
     "metadata": {},
     "output_type": "execute_result"
    },
    {
     "data": {
      "image/png": "[encoded data removed]",
      "text/plain": [
       "<matplotlib.figure.Figure at 0x7f5fd2249890>"
      ]
     },
     "metadata": {},
     "output_type": "display_data"
    }
   ],
   "source": [
    "_=plt.hist(raw_star.ps1_mag - raw_star.apmag,label='-star.fits file',\n",
    "           histtype='step')\n",
    "plt.legend()\n",
    "plt.xlabel('ps1 - apmag')\n",
    "#np.median(raw_star.phoff)"
   ]
  },
  {
   "cell_type": "code",
   "execution_count": 26,
   "metadata": {},
   "outputs": [
    {
     "name": "stdout",
     "output_type": "stream",
     "text": [
      "-0.00299448\n"
     ]
    },
    {
     "data": {
      "image/png": "[encoded data removed]",
      "text/plain": [
       "<matplotlib.figure.Figure at 0x7f5fd2922710>"
      ]
     },
     "metadata": {},
     "output_type": "display_data"
    }
   ],
   "source": [
    "diff,_,_= sigmaclip(star.legacy.data.magoff - star.idl.data.magoff)\n",
    "_=plt.hist(diff,histtype='step')\n",
    "print(np.median(diff))"
   ]
  },
  {
   "cell_type": "markdown",
   "metadata": {},
   "source": [
    "# CCD_RA and DEC"
   ]
  },
  {
   "cell_type": "code",
   "execution_count": 65,
   "metadata": {},
   "outputs": [
    {
     "name": "stdout",
     "output_type": "stream",
     "text": [
      "count    1.284700e+04\n",
      "mean    -2.016600e-10\n",
      "std      3.994875e-09\n",
      "min     -1.047965e-08\n",
      "25%     -2.529120e-09\n",
      "50%     -2.513900e-10\n",
      "75%      2.182944e-09\n",
      "max      9.456443e-09\n",
      "Name: diff_ra, dtype: float64\n"
     ]
    },
    {
     "data": {
      "image/png": "[encoded data removed]",
      "text/plain": [
       "<matplotlib.figure.Figure at 0x7f5fd2288d10>"
      ]
     },
     "metadata": {},
     "output_type": "display_data"
    }
   ],
   "source": [
    "diff_ra,_,_= sigmaclip(star.legacy.data.ccd_ra - star.idl.data.ccd_ra)\n",
    "df= pd.DataFrame({'diff_ra':diff_ra})\n",
    "_=plt.hist(df['diff_ra'],\n",
    "           histtype='step')\n",
    "plt.xlabel('ccd_ra (legacy - idl)')\n",
    "print(df['diff_ra'].describe())"
   ]
  },
  {
   "cell_type": "code",
   "execution_count": 66,
   "metadata": {},
   "outputs": [
    {
     "name": "stdout",
     "output_type": "stream",
     "text": [
      "count    1.284700e+04\n",
      "mean    -1.606490e-13\n",
      "std      1.931066e-09\n",
      "min     -5.095851e-09\n",
      "25%     -1.126941e-09\n",
      "50%      8.618883e-12\n",
      "75%      1.133754e-09\n",
      "max      5.259755e-09\n",
      "Name: diff_dec, dtype: float64\n"
     ]
    },
    {
     "data": {
      "image/png": "[encoded data removed]",
      "text/plain": [
       "<matplotlib.figure.Figure at 0x7f5fd268e990>"
      ]
     },
     "metadata": {},
     "output_type": "display_data"
    }
   ],
   "source": [
    "diff_dec,_,_= sigmaclip(star.legacy.data.ccd_dec - star.idl.data.ccd_dec)\n",
    "df['diff_dec']= diff_dec\n",
    "_=plt.hist(df['diff_dec'],\n",
    "           histtype='step')\n",
    "plt.xlabel('ccd_dec (legacy - idl)')\n",
    "print(df['diff_dec'].describe())"
   ]
  },
  {
   "cell_type": "code",
   "execution_count": null,
   "metadata": {
    "collapsed": true
   },
   "outputs": [],
   "source": []
  }
 ],
 "metadata": {
  "anaconda-cloud": {},
  "kernelspec": {
   "display_name": "Python 2",
   "language": "python",
   "name": "python2"
  },
  "language_info": {
   "codemirror_mode": {
    "name": "ipython",
    "version": 2
   },
   "file_extension": ".py",
   "mimetype": "text/x-python",
   "name": "python",
   "nbconvert_exporter": "python",
   "pygments_lexer": "ipython2",
   "version": "2.7.12"
  }
 },
 "nbformat": 4,
 "nbformat_minor": 1
}
